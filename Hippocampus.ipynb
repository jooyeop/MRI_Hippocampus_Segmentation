{
 "cells": [
  {
   "cell_type": "code",
   "execution_count": 1,
   "metadata": {},
   "outputs": [
    {
     "name": "stderr",
     "output_type": "stream",
     "text": [
      "C:\\Users\\JYP\\AppData\\Local\\Temp\\ipykernel_21836\\2458803103.py:25: DeprecationWarning: Please use `convolve` from the `scipy.ndimage` namespace, the `scipy.ndimage.filters` namespace is deprecated.\n",
      "  from scipy.ndimage.filters import convolve\n"
     ]
    }
   ],
   "source": [
    "#GENERAL\n",
    "import pandas as pd\n",
    "import numpy as np\n",
    "import seaborn as sns\n",
    "import matplotlib.pyplot as plt\n",
    "import matplotlib as mpl\n",
    "import random\n",
    "import time\n",
    "#PATH PROCESS\n",
    "import os\n",
    "import os.path\n",
    "from pathlib import Path\n",
    "import glob\n",
    "from scipy.io import loadmat\n",
    "import nibabel as nib\n",
    "import csv\n",
    "#IMAGE PROCESS\n",
    "from PIL import Image\n",
    "from keras.preprocessing import image\n",
    "from tensorflow.keras.preprocessing.image import ImageDataGenerator\n",
    "import cv2\n",
    "from keras.applications.vgg16 import preprocess_input, decode_predictions\n",
    "from keras.preprocessing import image\n",
    "from skimage.feature import hessian_matrix, hessian_matrix_eigvals\n",
    "from scipy.ndimage.filters import convolve\n",
    "from skimage import data, io, filters\n",
    "import skimage\n",
    "from skimage.morphology import convex_hull_image, erosion\n",
    "from IPython import display\n",
    "from scipy.ndimage import gaussian_filter\n",
    "from mpl_toolkits.mplot3d.art3d import Poly3DCollection\n",
    "import matplotlib.patches as patches\n",
    "#SCALER & TRANSFORMATION\n",
    "from sklearn.preprocessing import StandardScaler\n",
    "from sklearn.preprocessing import MinMaxScaler\n",
    "from keras.utils.np_utils import to_categorical\n",
    "from sklearn.model_selection import train_test_split\n",
    "from keras import regularizers\n",
    "from sklearn.preprocessing import LabelEncoder\n",
    "#ACCURACY CONTROL\n",
    "from sklearn.metrics import confusion_matrix, accuracy_score, classification_report, roc_auc_score, roc_curve\n",
    "from sklearn.model_selection import GridSearchCV, cross_val_score\n",
    "from sklearn.metrics import mean_squared_error, r2_score\n",
    "#OPTIMIZER\n",
    "from keras.optimizers import RMSprop,Adam,Optimizer,Optimizer, SGD\n",
    "#MODEL LAYERS\n",
    "from tensorflow.keras.models import Sequential\n",
    "from keras.layers import Dense, Dropout, Flatten, Conv2D, MaxPool2D, BatchNormalization,MaxPooling2D,BatchNormalization,\\\n",
    "                        Permute, TimeDistributed, Bidirectional,GRU, SimpleRNN,\\\n",
    "LSTM, GlobalAveragePooling2D, SeparableConv2D, ZeroPadding2D, Convolution2D, ZeroPadding2D,Reshape, Conv2DTranspose,\\\n",
    "LeakyReLU, GaussianNoise, GlobalMaxPooling2D, ReLU, Input, Concatenate\n",
    "from keras import models\n",
    "from keras import layers\n",
    "import tensorflow as tf\n",
    "from keras.applications import VGG16,VGG19,inception_v3\n",
    "from keras import backend as K\n",
    "from keras.utils import plot_model\n",
    "from keras.datasets import mnist\n",
    "import keras\n",
    "from keras.models import Model\n",
    "#IGNORING WARNINGS\n",
    "from warnings import filterwarnings\n",
    "filterwarnings(\"ignore\",category=DeprecationWarning)\n",
    "filterwarnings(\"ignore\", category=FutureWarning) \n",
    "filterwarnings(\"ignore\", category=UserWarning)"
   ]
  },
  {
   "cell_type": "code",
   "execution_count": 2,
   "metadata": {},
   "outputs": [],
   "source": [
    "#PATH\n",
    "Label = Path(r'../dataset/label/35label')\n",
    "Image = Path(r'../dataset/original/35')"
   ]
  },
  {
   "cell_type": "code",
   "execution_count": 3,
   "metadata": {},
   "outputs": [
    {
     "name": "stdout",
     "output_type": "stream",
     "text": [
      "Label_Path :  13230\n",
      "Image_Path :  6615\n"
     ]
    }
   ],
   "source": [
    "#IMAGE Path\n",
    "Label_Path = list(Label.glob(r'**/*.jpg')) # glob : 파일을 찾아주는 함수\n",
    "Image_Path = list(Image.glob(r'**/*.jpg'))\n",
    "\n",
    "print('Label_Path : ', len(Label_Path))\n",
    "print('Image_Path : ', len(Image_Path))"
   ]
  },
  {
   "cell_type": "code",
   "execution_count": 4,
   "metadata": {},
   "outputs": [
    {
     "name": "stdout",
     "output_type": "stream",
     "text": [
      "Label_Series :  13230\n",
      "Image_Series :  6615\n"
     ]
    }
   ],
   "source": [
    "Label_Series = pd.Series(Label_Path, name='Label').astype(str) # Series : 1차원 배열\n",
    "Image_Series = pd.Series(Image_Path, name='Image').astype(str)\n",
    "print('Label_Series : ', len(Label_Series))\n",
    "print('Image_Series : ', len(Image_Series))"
   ]
  },
  {
   "cell_type": "code",
   "execution_count": 5,
   "metadata": {},
   "outputs": [
    {
     "name": "stdout",
     "output_type": "stream",
     "text": [
      "0        ..\\dataset\\label\\35label\\ADNI_002_S_0685_18211...\n",
      "1        ..\\dataset\\label\\35label\\ADNI_002_S_0685_18211...\n",
      "2        ..\\dataset\\label\\35label\\ADNI_002_S_0685_18211...\n",
      "3        ..\\dataset\\label\\35label\\ADNI_002_S_0685_18211...\n",
      "4        ..\\dataset\\label\\35label\\ADNI_002_S_0685_18211...\n",
      "                               ...                        \n",
      "13224    ..\\dataset\\label\\35label\\ADNI_136_S_0429_10983...\n",
      "13225    ..\\dataset\\label\\35label\\ADNI_136_S_0429_10983...\n",
      "13226    ..\\dataset\\label\\35label\\ADNI_136_S_0429_10983...\n",
      "13227    ..\\dataset\\label\\35label\\ADNI_136_S_0429_10983...\n",
      "13228    ..\\dataset\\label\\35label\\ADNI_136_S_0429_10983...\n",
      "Name: Label, Length: 13229, dtype: object\n"
     ]
    }
   ],
   "source": [
    "print(Label_Series.head(-1))"
   ]
  },
  {
   "cell_type": "code",
   "execution_count": 6,
   "metadata": {},
   "outputs": [
    {
     "name": "stdout",
     "output_type": "stream",
     "text": [
      "0       ..\\dataset\\original\\35\\ADNI_002_S_0685_18211_t...\n",
      "1       ..\\dataset\\original\\35\\ADNI_002_S_0685_18211_t...\n",
      "2       ..\\dataset\\original\\35\\ADNI_002_S_0685_18211_t...\n",
      "3       ..\\dataset\\original\\35\\ADNI_002_S_0685_18211_t...\n",
      "4       ..\\dataset\\original\\35\\ADNI_002_S_0685_18211_t...\n",
      "                              ...                        \n",
      "6609    ..\\dataset\\original\\35\\ADNI_136_S_0429_109839_...\n",
      "6610    ..\\dataset\\original\\35\\ADNI_136_S_0429_109839_...\n",
      "6611    ..\\dataset\\original\\35\\ADNI_136_S_0429_109839_...\n",
      "6612    ..\\dataset\\original\\35\\ADNI_136_S_0429_109839_...\n",
      "6613    ..\\dataset\\original\\35\\ADNI_136_S_0429_109839_...\n",
      "Name: Image, Length: 6614, dtype: object\n"
     ]
    }
   ],
   "source": [
    "print(Image_Series.head(-1))"
   ]
  },
  {
   "cell_type": "code",
   "execution_count": 7,
   "metadata": {},
   "outputs": [
    {
     "name": "stdout",
     "output_type": "stream",
     "text": [
      "Label Path Len: 102\n",
      "Image Path Len: 98\n"
     ]
    }
   ],
   "source": [
    "print('Label Path Len:', len(Label_Series[0]))\n",
    "print('Image Path Len:', len(Image_Series[0]))"
   ]
  },
  {
   "cell_type": "code",
   "execution_count": 8,
   "metadata": {},
   "outputs": [
    {
     "name": "stdout",
     "output_type": "stream",
     "text": [
      "Label Path Example:\n",
      " ..\\dataset\\label\\35label\\ADNI_002_S_0685_18211\\ADNI_002_S_0685_18211_L\\ADNI_002_S_0685_18211_L_001.jpg\n",
      "Label Path Example:\n",
      " ..\\dataset\\label\\35label\\ADNI_023_S_0061_132164_ACPC\\ADNI_023_S_0061_132164_R\\ADNI_023_S_0061_132164_R_001.jpg\n",
      "Image Path Example:\n",
      " ..\\dataset\\original\\35\\ADNI_002_S_0685_18211_tal_noscale\\ADNI_002_S_0685_18211_tal_noscale_001.jpg\n"
     ]
    }
   ],
   "source": [
    "print('Label Path Example:\\n', Label_Series[0])\n",
    "print('Label Path Example:\\n', Label_Series[6615])\n",
    "print('Image Path Example:\\n', Image_Series[0])"
   ]
  },
  {
   "cell_type": "code",
   "execution_count": 18,
   "metadata": {},
   "outputs": [
    {
     "name": "stdout",
     "output_type": "stream",
     "text": [
      "L_Main_Path :  ../dataset/label/\n",
      "L_Target_Path :  ['..\\\\dataset\\\\label\\\\35label\\\\ADNI_002_S_0685_18211\\\\ADNI_002_S_0685_18211_L\\\\ADNI_002_S_0685_18211_L_001.jpg']\n",
      "I_Main_Path :  ../dataset/original/\n",
      "I_Target_Path :  ['..\\\\dataset\\\\original\\\\35\\\\ADNI_002_S_0685_18211_tal_noscale\\\\ADNI_002_S_0685_18211_tal_noscale_001.jpg']\n"
     ]
    }
   ],
   "source": [
    "#SPLITTING PROCESS\n",
    "Split_Params_For_Label = '35label/'\n",
    "Split_Params_For_Image = '35/'\n",
    "\n",
    "L_Main_Path = r'../dataset/label/'\n",
    "L_Target_Path = Label_Series[0].split(Split_Params_For_Label)\n",
    "I_Main_Path = r'../dataset/original/'\n",
    "I_Target_Path = Image_Series[0].split(Split_Params_For_Image)\n",
    "\n",
    "print('L_Main_Path : ', L_Main_Path)\n",
    "print('L_Target_Path : ', L_Target_Path)\n",
    "print('I_Main_Path : ', I_Main_Path)\n",
    "print('I_Target_Path : ', I_Target_Path)"
   ]
  },
  {
   "cell_type": "code",
   "execution_count": 20,
   "metadata": {},
   "outputs": [
    {
     "ename": "AttributeError",
     "evalue": "'list' object has no attribute 'split'",
     "output_type": "error",
     "traceback": [
      "\u001b[1;31m---------------------------------------------------------------------------\u001b[0m",
      "\u001b[1;31mAttributeError\u001b[0m                            Traceback (most recent call last)",
      "\u001b[1;32me:\\codestates\\프로젝트\\brain_MRI_Hippocampus_Segmentation\\project\\Hippocampus.ipynb 셀 10\u001b[0m in \u001b[0;36m<cell line: 3>\u001b[1;34m()\u001b[0m\n\u001b[0;32m      <a href='vscode-notebook-cell:/e%3A/codestates/%ED%94%84%EB%A1%9C%EC%A0%9D%ED%8A%B8/brain_MRI_Hippocampus_Segmentation/project/Hippocampus.ipynb#X13sZmlsZQ%3D%3D?line=0'>1</a>\u001b[0m Common_Params \u001b[39m=\u001b[39m \u001b[39m\"\u001b[39m\u001b[39m/\u001b[39m\u001b[39m\"\u001b[39m\n\u001b[1;32m----> <a href='vscode-notebook-cell:/e%3A/codestates/%ED%94%84%EB%A1%9C%EC%A0%9D%ED%8A%B8/brain_MRI_Hippocampus_Segmentation/project/Hippocampus.ipynb#X13sZmlsZQ%3D%3D?line=2'>3</a>\u001b[0m Label_Path_Before \u001b[39m=\u001b[39m L_Target_Path\u001b[39m.\u001b[39;49msplit(Common_Params)\n",
      "\u001b[1;31mAttributeError\u001b[0m: 'list' object has no attribute 'split'"
     ]
    }
   ],
   "source": [
    "Common_Params = \"/\"\n",
    "\n",
    "Label_Path_Before = L_Target_Path.split(Common_Params)"
   ]
  }
 ],
 "metadata": {
  "kernelspec": {
   "display_name": "Python 3.8.0 ('CP1')",
   "language": "python",
   "name": "python3"
  },
  "language_info": {
   "codemirror_mode": {
    "name": "ipython",
    "version": 3
   },
   "file_extension": ".py",
   "mimetype": "text/x-python",
   "name": "python",
   "nbconvert_exporter": "python",
   "pygments_lexer": "ipython3",
   "version": "3.8.0"
  },
  "orig_nbformat": 4,
  "vscode": {
   "interpreter": {
    "hash": "db6a87c4292fed1e8ca2a2e7ed5a78a29a141b3b278c22eaee7163a3b72b4c2f"
   }
  }
 },
 "nbformat": 4,
 "nbformat_minor": 2
}
